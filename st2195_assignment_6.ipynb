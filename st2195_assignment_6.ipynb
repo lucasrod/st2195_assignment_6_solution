{
 "cells": [
  {
   "cell_type": "code",
   "execution_count": null,
   "id": "d80a40e5",
   "metadata": {},
   "outputs": [],
   "source": [
    "%%javascript\n",
    "IPython.OutputArea.prototype._should_scroll = function(lines) {\n",
    "    return false;\n",
    "}"
   ]
  },
  {
   "cell_type": "markdown",
   "id": "77462520",
   "metadata": {},
   "source": [
    "## Load data\n",
    "\n",
    "Load in the data and handle multiple rows for the same day in speeches.csv the same way in the R solution:"
   ]
  },
  {
   "cell_type": "code",
   "execution_count": 2,
   "id": "5152eb10",
   "metadata": {},
   "outputs": [],
   "source": [
    "import pandas as pd\n",
    "\n",
    "# load in the data, note your paths to the data may be different from what are showing here\n",
    "fx = pd.read_csv(\"fx.csv\", skiprows=4, na_values=['-'])\n",
    "fx.columns = [\"date\", \"exchange_rate\"]\n",
    "fx.dropna(inplace=True)\n",
    "\n",
    "speeches = pd.read_csv(\"speeches.csv\", sep='|', usecols=['date', 'contents'])\n",
    "speeches.dropna(inplace=True)\n"
   ]
  },
  {
   "cell_type": "code",
   "execution_count": null,
   "id": "5f4c5233",
   "metadata": {},
   "outputs": [],
   "source": [
    "fx.isna().sum()"
   ]
  },
  {
   "cell_type": "code",
   "execution_count": null,
   "id": "84b3a8da",
   "metadata": {},
   "outputs": [],
   "source": [
    "fx.shape"
   ]
  },
  {
   "cell_type": "code",
   "execution_count": null,
   "id": "43cf04ab",
   "metadata": {},
   "outputs": [],
   "source": [
    "speeches.shape"
   ]
  },
  {
   "cell_type": "code",
   "execution_count": null,
   "id": "aa32962d",
   "metadata": {},
   "outputs": [],
   "source": [
    "from collections import Counter\n",
    "Counter(speeches.date)"
   ]
  },
  {
   "cell_type": "code",
   "execution_count": null,
   "id": "c146a2ec",
   "metadata": {},
   "outputs": [],
   "source": [
    "speeches['contents'][0]"
   ]
  },
  {
   "cell_type": "code",
   "execution_count": null,
   "id": "c6789c0f",
   "metadata": {},
   "outputs": [],
   "source": [
    "'apple' + ' orange'"
   ]
  },
  {
   "cell_type": "code",
   "execution_count": null,
   "id": "ffd90ef7",
   "metadata": {},
   "outputs": [],
   "source": [
    "speeches.groupby(\"date\").sum()"
   ]
  },
  {
   "cell_type": "code",
   "execution_count": null,
   "id": "073839f0",
   "metadata": {},
   "outputs": [],
   "source": [
    "speeches.groupby(\"date\")['contents'].apply(lambda x: \" \".join(x.astype(str)))"
   ]
  },
  {
   "cell_type": "code",
   "execution_count": null,
   "id": "5c42b29c",
   "metadata": {},
   "outputs": [],
   "source": [
    "speeches = speeches.groupby(\"date\")['contents'].apply(lambda x: \" \".join(x.astype(str))).reset_index()\n",
    "speeches.shape"
   ]
  },
  {
   "cell_type": "code",
   "execution_count": null,
   "id": "689c3830",
   "metadata": {},
   "outputs": [],
   "source": [
    "speeches"
   ]
  },
  {
   "cell_type": "code",
   "execution_count": null,
   "id": "c07bfe8f",
   "metadata": {},
   "outputs": [],
   "source": [
    "fx"
   ]
  },
  {
   "cell_type": "raw",
   "id": "317ad86d",
   "metadata": {},
   "source": [
    "fx.dropna(inplace=True)"
   ]
  },
  {
   "cell_type": "code",
   "execution_count": null,
   "id": "1dd482ca",
   "metadata": {},
   "outputs": [],
   "source": [
    "pd.merge(fx, speeches, on ='date').isna().sum()"
   ]
  },
  {
   "cell_type": "code",
   "execution_count": null,
   "id": "5580359a",
   "metadata": {},
   "outputs": [],
   "source": [
    "fx.shape"
   ]
  },
  {
   "cell_type": "code",
   "execution_count": null,
   "id": "e4d4fea5",
   "metadata": {},
   "outputs": [],
   "source": [
    "pd.merge(fx, speeches, on ='date')"
   ]
  },
  {
   "cell_type": "code",
   "execution_count": 17,
   "id": "f5cfbd85",
   "metadata": {},
   "outputs": [],
   "source": [
    "df = pd.merge(fx, speeches, on ='date', how = 'left')"
   ]
  },
  {
   "cell_type": "code",
   "execution_count": null,
   "id": "023114dd",
   "metadata": {},
   "outputs": [],
   "source": [
    "df"
   ]
  },
  {
   "cell_type": "code",
   "execution_count": null,
   "id": "8ae9ebea",
   "metadata": {},
   "outputs": [],
   "source": [
    "df.dtypes"
   ]
  },
  {
   "cell_type": "code",
   "execution_count": 20,
   "id": "f8b4b9a7",
   "metadata": {},
   "outputs": [],
   "source": [
    "df['date'] = pd.to_datetime(df['date'])"
   ]
  },
  {
   "cell_type": "code",
   "execution_count": null,
   "id": "fee3ee03",
   "metadata": {},
   "outputs": [],
   "source": [
    "df.dtypes"
   ]
  },
  {
   "cell_type": "code",
   "execution_count": 22,
   "id": "4a4ae969",
   "metadata": {
    "scrolled": true
   },
   "outputs": [],
   "source": [
    ".set_index('date', inplace= True)"
   ]
  },
  {
   "cell_type": "code",
   "execution_count": null,
   "id": "156e4560",
   "metadata": {},
   "outputs": [],
   "source": [
    "df"
   ]
  },
  {
   "cell_type": "code",
   "execution_count": null,
   "id": "fc31d84f",
   "metadata": {},
   "outputs": [],
   "source": [
    "df.dtypes"
   ]
  },
  {
   "cell_type": "markdown",
   "id": "28fc7967",
   "metadata": {},
   "source": [
    "## Remove entries with obvious outliers or mistakes"
   ]
  },
  {
   "cell_type": "markdown",
   "id": "6864658c",
   "metadata": {},
   "source": [
    "We first see if there is any obvious outliers or mistakes by plotting the data:"
   ]
  },
  {
   "cell_type": "code",
   "execution_count": 25,
   "id": "13767449",
   "metadata": {
    "scrolled": false
   },
   "outputs": [
    {
     "data": {
      "image/png": "[encoded data removed]",
      "text/plain": [
       "<Figure size 640x480 with 1 Axes>"
      ]
     },
     "metadata": {},
     "output_type": "display_data"
    }
   ],
   "source": [
    "df.plot();"
   ]
  },
  {
   "cell_type": "markdown",
   "id": "cb7ae2b4",
   "metadata": {},
   "source": [
    "And look at the summary statistics:"
   ]
  },
  {
   "cell_type": "code",
   "execution_count": null,
   "id": "94b112a8",
   "metadata": {
    "scrolled": false
   },
   "outputs": [],
   "source": [
    "df.describe()"
   ]
  },
  {
   "cell_type": "markdown",
   "id": "c16e7f28",
   "metadata": {},
   "source": [
    "The data does not seem to have obvious outliers or mistakes. "
   ]
  },
  {
   "cell_type": "markdown",
   "id": "459597c1",
   "metadata": {},
   "source": [
    "## 3.\tHandle missing observations\n",
    "\n",
    "We can see that there are some missing data:"
   ]
  },
  {
   "cell_type": "code",
   "execution_count": null,
   "id": "e61cbef0",
   "metadata": {
    "scrolled": false
   },
   "outputs": [],
   "source": [
    "df.isna().sum()"
   ]
  },
  {
   "cell_type": "markdown",
   "id": "86be24d3",
   "metadata": {},
   "source": [
    "Here we fill in the exchange rate with the latest information available:"
   ]
  },
  {
   "cell_type": "code",
   "execution_count": 28,
   "id": "ab2ca8d1",
   "metadata": {},
   "outputs": [],
   "source": [
    "df.exchange_rate.fillna(method='bfill', inplace=True)"
   ]
  },
  {
   "cell_type": "markdown",
   "id": "4f134b88",
   "metadata": {},
   "source": [
    "We can see there is no more missing data for exchange rate:"
   ]
  },
  {
   "cell_type": "code",
   "execution_count": null,
   "id": "50fd2ef3",
   "metadata": {
    "scrolled": true
   },
   "outputs": [],
   "source": [
    "df.isna().sum()"
   ]
  },
  {
   "cell_type": "markdown",
   "id": "87f77e3e",
   "metadata": {},
   "source": [
    "\n",
    "## 4. Exchange rate return\n",
    "\n",
    "Get the return by using the formula: $R_{t} = \\frac{P_{t}-P_{t-1}}{P_{t-1}}$"
   ]
  },
  {
   "cell_type": "markdown",
   "id": "02ff8e36",
   "metadata": {},
   "source": [
    "Extend the original dataset with the following variables: “good_news” (equal to 1 when the exchange rate return is larger than 0.5 percent, 0 otherwise) and “bad_news” (equal to 1 when the exchange rate return is lower than -0.5 percent, 0 otherwise)."
   ]
  },
  {
   "cell_type": "code",
   "execution_count": 30,
   "id": "b9946ebf",
   "metadata": {
    "scrolled": true
   },
   "outputs": [],
   "source": [
    "df['return'] = df.exchange_rate.diff(-1)/df.exchange_rate"
   ]
  },
  {
   "cell_type": "code",
   "execution_count": null,
   "id": "1a870b18",
   "metadata": {},
   "outputs": [],
   "source": [
    "df"
   ]
  },
  {
   "cell_type": "code",
   "execution_count": null,
   "id": "f1f42374",
   "metadata": {},
   "outputs": [],
   "source": [
    "(df['return'] > 0.005).astype(int)"
   ]
  },
  {
   "cell_type": "code",
   "execution_count": null,
   "id": "a0edf305",
   "metadata": {},
   "outputs": [],
   "source": [
    "0.5/100"
   ]
  },
  {
   "cell_type": "code",
   "execution_count": null,
   "id": "2d18ab4c",
   "metadata": {},
   "outputs": [],
   "source": [
    "(df['return'] > 0.5/100).astype(int)"
   ]
  },
  {
   "cell_type": "markdown",
   "id": "7469ef99",
   "metadata": {},
   "source": [
    "Extend the dataset with the variables \"good_news\" and \"bad_news\":"
   ]
  },
  {
   "cell_type": "code",
   "execution_count": 35,
   "id": "64e18da6",
   "metadata": {},
   "outputs": [],
   "source": [
    "df['good_news'] = (df['return'] > 0.5/100).astype(int)\n",
    "df['bad_news'] = (df['return'] < -0.5/100).astype(int)"
   ]
  },
  {
   "cell_type": "code",
   "execution_count": 36,
   "id": "daaaff41",
   "metadata": {},
   "outputs": [],
   "source": [
    "df['good_news'] = df['return'].apply(lambda x: 1 if x > 0.005 else 0)\n",
    "df['bad_news'] = df['return'].apply(lambda x: 1 if x < -0.005 else 0)"
   ]
  },
  {
   "cell_type": "code",
   "execution_count": null,
   "id": "55685831",
   "metadata": {},
   "outputs": [],
   "source": [
    "df.describe()"
   ]
  },
  {
   "cell_type": "markdown",
   "id": "c5eaf328",
   "metadata": {},
   "source": [
    "## 5. Associate words with `good_news`, `bad_news`\n",
    "\n",
    "Get the contents that associate with `good_news` and `bad_news`:"
   ]
  },
  {
   "cell_type": "code",
   "execution_count": null,
   "id": "ecf478e0",
   "metadata": {
    "scrolled": true
   },
   "outputs": [],
   "source": [
    "# remove rows with NA \n",
    "df.dropna(inplace=True)\n",
    "df.head()"
   ]
  },
  {
   "cell_type": "code",
   "execution_count": null,
   "id": "696e7539",
   "metadata": {},
   "outputs": [],
   "source": [
    "df.isna().sum()"
   ]
  },
  {
   "cell_type": "code",
   "execution_count": null,
   "id": "327c51d1",
   "metadata": {},
   "outputs": [],
   "source": [
    "df.shape"
   ]
  },
  {
   "cell_type": "code",
   "execution_count": 76,
   "id": "c26fe61d",
   "metadata": {},
   "outputs": [],
   "source": [
    "# get the contents related to \"good_news\" and \"bad_news\"\n",
    "good_news_contents = df.contents[df.good_news==1].str.cat(sep=' ')\n",
    "bad_news_contents = df.contents[df.bad_news==1].str.cat(sep=' ')"
   ]
  },
  {
   "cell_type": "markdown",
   "id": "f5bb7573",
   "metadata": {},
   "source": [
    "Load in some stop words, which are words that used to form a sentence but does not add much meaning to a sentence. Example of stop words are \"a\", \"the\" \"does\", \"i\", etc. "
   ]
  },
  {
   "cell_type": "code",
   "execution_count": 77,
   "id": "c560f287",
   "metadata": {},
   "outputs": [],
   "source": [
    "stop_words = set(pd.read_csv(\"stopwords.txt\", header=None).iloc[:,0].tolist())"
   ]
  },
  {
   "cell_type": "code",
   "execution_count": null,
   "id": "11624153",
   "metadata": {},
   "outputs": [],
   "source": [
    "len(stop_words)"
   ]
  },
  {
   "cell_type": "markdown",
   "id": "054d68e4",
   "metadata": {},
   "source": [
    "The function below helps us to get the most common words (excluding stop_words) related to `good_news` and `bad_news`. Please read the comments to understand how it works:"
   ]
  },
  {
   "cell_type": "code",
   "execution_count": 95,
   "id": "5c8c1fa3",
   "metadata": {},
   "outputs": [],
   "source": [
    "import string\n",
    "import collections\n",
    "\n",
    "def get_word_freq(contents, stop_words, num_words):\n",
    "    freq = dict()\n",
    "    \n",
    "    \n",
    "    for word in contents.split():\n",
    "        word = word.strip(string.punctuation+'–')\n",
    "        word = word.lower()\n",
    "        if word not in stop_words and len(word):\n",
    "            if word in freq:\n",
    "                freq[word] += 1\n",
    "            else:\n",
    "                freq[word] = 1\n",
    "                \n",
    "                \n",
    "    freq = dict(sorted(freq.items(), key = lambda item: -item[1]))\n",
    "    return list(freq.keys())[:num_words]\n"
   ]
  },
  {
   "cell_type": "markdown",
   "id": "2525d21b",
   "metadata": {},
   "source": [
    "Use the function above to get the 20 most common words associated with `good_news` and `bad_news`"
   ]
  },
  {
   "cell_type": "code",
   "execution_count": 96,
   "id": "ac88b036",
   "metadata": {},
   "outputs": [],
   "source": [
    "good_indicators = get_word_freq(good_news_contents, stop_words, num_words = 20)\n",
    "bad_indicators = get_word_freq(bad_news_contents, stop_words, num_words = 20)"
   ]
  },
  {
   "cell_type": "code",
   "execution_count": null,
   "id": "bb595fe8",
   "metadata": {
    "scrolled": true
   },
   "outputs": [],
   "source": [
    "good_indicators"
   ]
  },
  {
   "cell_type": "code",
   "execution_count": null,
   "id": "df8c6f07",
   "metadata": {
    "scrolled": true
   },
   "outputs": [],
   "source": [
    "bad_indicators"
   ]
  },
  {
   "cell_type": "markdown",
   "id": "51d2c754",
   "metadata": {},
   "source": [
    "Note that many terms appear in both, and the results are not the same as R. It may because the `word_tokenizer()` in R may not work the same way as `split()` with `strip()`."
   ]
  }
 ],
 "metadata": {
  "kernelspec": {
   "display_name": "Python 3 (ipykernel)",
   "language": "python",
   "name": "python3"
  },
  "language_info": {
   "codemirror_mode": {
    "name": "ipython",
    "version": 3
   },
   "file_extension": ".py",
   "mimetype": "text/x-python",
   "name": "python",
   "nbconvert_exporter": "python",
   "pygments_lexer": "ipython3",
   "version": "3.9.13"
  }
 },
 "nbformat": 4,
 "nbformat_minor": 5
}
